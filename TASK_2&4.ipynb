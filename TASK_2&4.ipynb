{
  "nbformat": 4,
  "nbformat_minor": 0,
  "metadata": {
    "colab": {
      "provenance": [],
      "authorship_tag": "ABX9TyNhGk7O+6aTh/USDW56Qzij",
      "include_colab_link": true
    },
    "kernelspec": {
      "name": "python3",
      "display_name": "Python 3"
    },
    "language_info": {
      "name": "python"
    }
  },
  "cells": [
    {
      "cell_type": "markdown",
      "metadata": {
        "id": "view-in-github",
        "colab_type": "text"
      },
      "source": [
        "<a href=\"https://colab.research.google.com/github/JumanaRahim/Nullclass-Internship/blob/main/TASK_2%264.ipynb\" target=\"_parent\"><img src=\"https://colab.research.google.com/assets/colab-badge.svg\" alt=\"Open In Colab\"/></a>"
      ]
    },
    {
      "cell_type": "code",
      "execution_count": 7,
      "metadata": {
        "id": "lvWKkCyUmwIp"
      },
      "outputs": [],
      "source": [
        "import torch\n",
        "import torch.nn as nn\n",
        "import torch.optim as optim\n",
        "\n",
        "# ✅ Define a Simple Autoencoder for Colorization\n",
        "class ColorizationAutoencoder(nn.Module):\n",
        "    def __init__(self):\n",
        "        super(ColorizationAutoencoder, self).__init__()\n",
        "\n",
        "        # Encoder\n",
        "        self.encoder = nn.Sequential(\n",
        "            nn.Conv2d(1, 32, kernel_size=3, stride=1, padding=1),\n",
        "            nn.ReLU(),\n",
        "            nn.MaxPool2d(2, 2),\n",
        "            nn.Conv2d(32, 64, kernel_size=3, stride=1, padding=1),\n",
        "            nn.ReLU(),\n",
        "            nn.MaxPool2d(2, 2),\n",
        "        )\n",
        "\n",
        "        # Decoder\n",
        "        self.decoder = nn.Sequential(\n",
        "            nn.Conv2d(64, 64, kernel_size=3, stride=1, padding=1),\n",
        "            nn.ReLU(),\n",
        "            nn.Upsample(scale_factor=2),\n",
        "            nn.Conv2d(64, 32, kernel_size=3, stride=1, padding=1),\n",
        "            nn.ReLU(),\n",
        "            nn.Upsample(scale_factor=2),\n",
        "            nn.Conv2d(32, 3, kernel_size=3, stride=1, padding=1),\n",
        "            nn.Sigmoid()  # Output range [0,1]\n",
        "        )\n",
        "\n",
        "    def forward(self, x):\n",
        "        x = self.encoder(x)\n",
        "        x = self.decoder(x)\n",
        "        return x\n",
        "\n"
      ]
    },
    {
      "cell_type": "code",
      "source": [
        "import torchvision\n",
        "from torchvision import transforms\n",
        "from torch.utils.data import DataLoader\n",
        "\n",
        "device = torch.device(\"cuda\" if torch.cuda.is_available() else \"cpu\")\n",
        "\n",
        "# ✅ Define Dataset Transformations\n",
        "transform = transforms.Compose([\n",
        "    transforms.Resize((128, 128)),  # Smaller size for faster training\n",
        "    transforms.Grayscale(num_output_channels=1),\n",
        "    transforms.ToTensor()\n",
        "])\n",
        "\n",
        "# ✅ Load a Subset of CIFAR-10 (5000 Images for Quick Training)\n",
        "trainset = torchvision.datasets.CIFAR10(root=\"./data\", train=True, download=True, transform=transform)\n",
        "subset_size = 5000\n",
        "train_subset = torch.utils.data.Subset(trainset, range(subset_size))\n",
        "trainloader = DataLoader(train_subset, batch_size=64, shuffle=True)\n"
      ],
      "metadata": {
        "id": "QuOafnzVz7QA",
        "colab": {
          "base_uri": "https://localhost:8080/"
        },
        "outputId": "0f8b8fe2-8938-4dcf-d54b-fd5a11f169e1"
      },
      "execution_count": 8,
      "outputs": [
        {
          "output_type": "stream",
          "name": "stdout",
          "text": [
            "Files already downloaded and verified\n"
          ]
        }
      ]
    },
    {
      "cell_type": "code",
      "source": [
        "model = ColorizationAutoencoder().to(device)\n",
        "criterion = nn.MSELoss()\n",
        "optimizer = optim.Adam(model.parameters(), lr=0.0005)\n",
        "\n",
        "num_epochs = 3  # ✅ Keep training short (3 epochs for quick testing)\n",
        "\n",
        "for epoch in range(num_epochs):\n",
        "    total_loss = 0.0\n",
        "    for gray_imgs, _ in trainloader:\n",
        "        gray_imgs = gray_imgs.to(device)\n",
        "\n",
        "        # ✅ Convert grayscale to 3-channel grayscale (for loss calculation)\n",
        "        color_imgs = gray_imgs.repeat(1, 3, 1, 1)\n",
        "\n",
        "        optimizer.zero_grad()\n",
        "        outputs = model(gray_imgs)\n",
        "        loss = criterion(outputs, color_imgs)\n",
        "\n",
        "        loss.backward()\n",
        "        optimizer.step()\n",
        "\n",
        "        total_loss += loss.item()\n",
        "\n",
        "    avg_loss = total_loss / len(trainloader)\n",
        "    print(f\"Epoch [{epoch+1}/{num_epochs}], Loss: {avg_loss:.4f}\")\n"
      ],
      "metadata": {
        "id": "u9l4f8QRnTtf",
        "colab": {
          "base_uri": "https://localhost:8080/"
        },
        "outputId": "ab3ae073-dfd4-4198-8701-19de1ca7fd43"
      },
      "execution_count": 9,
      "outputs": [
        {
          "metadata": {
            "tags": null
          },
          "name": "stdout",
          "output_type": "stream",
          "text": [
            "Epoch [1/3], Loss: 0.0122\n",
            "Epoch [2/3], Loss: 0.0016\n",
            "Epoch [3/3], Loss: 0.0006\n"
          ]
        }
      ]
    },
    {
      "cell_type": "code",
      "source": [
        "torch.save(model.state_dict(), \"colorization_model.pth\")\n",
        "\n"
      ],
      "metadata": {
        "id": "puU_kdZqnkmC"
      },
      "execution_count": 10,
      "outputs": []
    },
    {
      "cell_type": "code",
      "source": [
        "import cv2\n",
        "import torch\n",
        "import numpy as np\n",
        "from torchvision import transforms\n",
        "\n",
        "# Load Model\n",
        "device = torch.device(\"cuda\" if torch.cuda.is_available() else \"cpu\")\n",
        "model = ColorizationAutoencoder().to(device)\n",
        "model.load_state_dict(torch.load(\"colorization_model.pth\", map_location=device))\n",
        "model.eval()\n",
        "\n",
        "transform = transforms.Compose([\n",
        "    transforms.Resize((128, 128)),\n",
        "    transforms.Grayscale(num_output_channels=1),\n",
        "    transforms.ToTensor()\n",
        "])\n",
        "\n",
        "def colorize_frame(frame):\n",
        "    gray = cv2.cvtColor(frame, cv2.COLOR_BGR2GRAY)\n",
        "    gray_3ch = cv2.cvtColor(gray, cv2.COLOR_GRAY2RGB)\n",
        "    img_tensor = transform(gray_3ch).unsqueeze(0).to(device)\n",
        "\n",
        "    with torch.no_grad():\n",
        "        colorized_tensor = model(img_tensor)\n",
        "\n",
        "    colorized_img = colorized_tensor.squeeze(0).cpu().numpy().transpose(1, 2, 0)\n",
        "    colorized_img = (colorized_img * 255).astype(np.uint8)\n",
        "\n",
        "    return colorized_img\n",
        "\n",
        "# Open Webcam\n",
        "cap = cv2.VideoCapture(0)\n",
        "while cap.isOpened():\n",
        "    ret, frame = cap.read()\n",
        "    if not ret:\n",
        "        break\n",
        "\n",
        "    colorized_frame = colorize_frame(frame)\n",
        "\n",
        "    cv2.imshow(\"Colorized Video\", colorized_frame)\n",
        "    if cv2.waitKey(1) & 0xFF == ord('q'):\n",
        "        break\n",
        "\n",
        "cap.release()\n",
        "cv2.destroyAllWindows()\n",
        "\n",
        "\n",
        "\n"
      ],
      "metadata": {
        "id": "MaqadCKAqu4A",
        "colab": {
          "base_uri": "https://localhost:8080/"
        },
        "outputId": "a9b1e93c-5658-4e75-dee5-0377677e9821"
      },
      "execution_count": 11,
      "outputs": [
        {
          "metadata": {
            "tags": null
          },
          "name": "stderr",
          "output_type": "stream",
          "text": [
            "<ipython-input-11-350cda77f63c>:9: FutureWarning: You are using `torch.load` with `weights_only=False` (the current default value), which uses the default pickle module implicitly. It is possible to construct malicious pickle data which will execute arbitrary code during unpickling (See https://github.com/pytorch/pytorch/blob/main/SECURITY.md#untrusted-models for more details). In a future release, the default value for `weights_only` will be flipped to `True`. This limits the functions that could be executed during unpickling. Arbitrary objects will no longer be allowed to be loaded via this mode unless they are explicitly allowlisted by the user via `torch.serialization.add_safe_globals`. We recommend you start setting `weights_only=True` for any use case where you don't have full control of the loaded file. Please open an issue on GitHub for any issues related to this experimental feature.\n",
            "  model.load_state_dict(torch.load(\"colorization_model.pth\", map_location=device))\n"
          ]
        }
      ]
    },
    {
      "cell_type": "code",
      "source": [
        "import tkinter as tk\n",
        "from tkinter import filedialog\n",
        "import subprocess\n",
        "\n",
        "# ✅ Use a separate function to initialize Tkinter\n",
        "def launch_gui():\n",
        "    root = tk.Tk()\n",
        "    root.title(\"Real-Time Video Colorization\")\n",
        "    root.geometry(\"300x200\")\n",
        "\n",
        "    def start_webcam():\n",
        "        subprocess.run([\"python\", \"video_colorization.py\"])\n",
        "\n",
        "    btn_webcam = tk.Button(root, text=\"Start Webcam Colorization\", command=start_webcam)\n",
        "    btn_webcam.pack(pady=20)\n",
        "\n",
        "    root.mainloop()\n",
        "\n",
        "# ✅ Run Tkinter inside a separate thread to avoid Jupyter issues\n",
        "import threading\n",
        "gui_thread = threading.Thread(target=launch_gui)\n",
        "gui_thread.start()\n",
        "\n",
        "\n"
      ],
      "metadata": {
        "id": "X5WzMxPnnueT"
      },
      "execution_count": 13,
      "outputs": []
    },
    {
      "cell_type": "code",
      "source": [
        "import matplotlib.pyplot as plt\n",
        "\n",
        "def show_message():\n",
        "    fig, ax = plt.subplots()\n",
        "    ax.text(0.5, 0.5, \"Run `video_colorization.py` manually!\", fontsize=12, ha='center')\n",
        "    plt.show()\n",
        "\n",
        "show_message()\n"
      ],
      "metadata": {
        "colab": {
          "base_uri": "https://localhost:8080/",
          "height": 435
        },
        "id": "mCrsgihHLluZ",
        "outputId": "355c384e-ed0c-450e-9e2c-e2af060a171a"
      },
      "execution_count": 14,
      "outputs": [
        {
          "output_type": "display_data",
          "data": {
            "text/plain": [
              "<Figure size 640x480 with 1 Axes>"
            ],
            "image/png": "[encoded data removed]"
          },
          "metadata": {}
        }
      ]
    },
    {
      "cell_type": "code",
      "source": [
        "import subprocess\n",
        "subprocess.run([\"python\", \"video_colorization.py\"])\n",
        "\n"
      ],
      "metadata": {
        "colab": {
          "base_uri": "https://localhost:8080/"
        },
        "id": "XPao8oOiLzLa",
        "outputId": "065b4ec2-9098-4375-e189-aaa31239dc2f"
      },
      "execution_count": 16,
      "outputs": [
        {
          "output_type": "execute_result",
          "data": {
            "text/plain": [
              "CompletedProcess(args=['python', 'video_colorization.py'], returncode=2)"
            ]
          },
          "metadata": {},
          "execution_count": 16
        }
      ]
    },
    {
      "cell_type": "code",
      "source": [
        "import cv2\n",
        "print(\"Run `video_colorization.py` manually!\")\n",
        "cv2.waitKey(0)\n"
      ],
      "metadata": {
        "colab": {
          "base_uri": "https://localhost:8080/"
        },
        "id": "JJRmcB8JMJrY",
        "outputId": "f878021e-622d-4428-dc73-6afc31b1e48c"
      },
      "execution_count": 17,
      "outputs": [
        {
          "output_type": "stream",
          "name": "stdout",
          "text": [
            "Run `video_colorization.py` manually!\n"
          ]
        },
        {
          "output_type": "execute_result",
          "data": {
            "text/plain": [
              "-1"
            ]
          },
          "metadata": {},
          "execution_count": 17
        }
      ]
    },
    {
      "cell_type": "code",
      "source": [
        "from sklearn.metrics import accuracy_score, precision_score, recall_score, confusion_matrix\n",
        "import numpy as np\n",
        "\n",
        "def evaluate_model():\n",
        "    all_preds = []\n",
        "    all_labels = []\n",
        "\n",
        "    for gray_imgs, color_imgs in trainloader:\n",
        "        gray_imgs, color_imgs = gray_imgs.to(device), color_imgs.to(device)\n",
        "\n",
        "        with torch.no_grad():\n",
        "            outputs = model(gray_imgs)\n",
        "\n",
        "        pred_classes = (outputs * 255).byte().cpu().numpy().flatten()\n",
        "        true_classes = (color_imgs * 255).byte().cpu().numpy().flatten()\n",
        "\n",
        "        all_preds.extend(pred_classes)\n",
        "        all_labels.extend(true_classes)\n",
        "\n",
        "    accuracy = accuracy_score(all_labels, all_preds)\n",
        "    print(f\"Accuracy: {accuracy * 100:.2f}%\")\n",
        "\n",
        "evaluate_model()\n",
        "\n"
      ],
      "metadata": {
        "id": "Q2R8_a-Cn5im"
      },
      "execution_count": null,
      "outputs": []
    }
  ]
}