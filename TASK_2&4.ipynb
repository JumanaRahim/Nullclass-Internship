{
  "nbformat": 4,
  "nbformat_minor": 0,
  "metadata": {
    "colab": {
      "provenance": [],
      "authorship_tag": "ABX9TyMy0iHfoyIQK3pqzGbgz1gu",
      "include_colab_link": true
    },
    "kernelspec": {
      "name": "python3",
      "display_name": "Python 3"
    },
    "language_info": {
      "name": "python"
    }
  },
  "cells": [
    {
      "cell_type": "markdown",
      "metadata": {
        "id": "view-in-github",
        "colab_type": "text"
      },
      "source": [
        "<a href=\"https://colab.research.google.com/github/JumanaRahim/Nullclass-Internship/blob/main/TASK_2%264.ipynb\" target=\"_parent\"><img src=\"https://colab.research.google.com/assets/colab-badge.svg\" alt=\"Open In Colab\"/></a>"
      ]
    },
    {
      "cell_type": "code",
      "execution_count": 6,
      "metadata": {
        "colab": {
          "base_uri": "https://localhost:8080/"
        },
        "id": "lvWKkCyUmwIp",
        "outputId": "c599f3f6-7f0c-4568-eaa3-d6b3729ceb60"
      },
      "outputs": [
        {
          "output_type": "stream",
          "name": "stdout",
          "text": [
            "Requirement already satisfied: opencv-python in /usr/local/lib/python3.11/dist-packages (4.11.0.86)\n",
            "Requirement already satisfied: numpy in /usr/local/lib/python3.11/dist-packages (1.26.4)\n",
            "Requirement already satisfied: torch in /usr/local/lib/python3.11/dist-packages (2.5.1+cu124)\n",
            "Requirement already satisfied: torchvision in /usr/local/lib/python3.11/dist-packages (0.20.1+cu124)\n",
            "\u001b[31mERROR: Could not find a version that satisfies the requirement tkinter (from versions: none)\u001b[0m\u001b[31m\n",
            "\u001b[0m\u001b[31mERROR: No matching distribution found for tkinter\u001b[0m\u001b[31m\n",
            "\u001b[0m"
          ]
        }
      ],
      "source": [
        "pip install opencv-python numpy torch torchvision tkinter\n"
      ]
    },
    {
      "cell_type": "code",
      "source": [
        "import torch\n",
        "import torch.nn as nn\n",
        "import torch.optim as optim\n",
        "import torchvision\n",
        "import torchvision.transforms as transforms\n",
        "from torch.utils.data import DataLoader, Dataset"
      ],
      "metadata": {
        "id": "QuOafnzVz7QA"
      },
      "execution_count": 7,
      "outputs": []
    },
    {
      "cell_type": "code",
      "source": [
        "class ColorizationAutoencoder(nn.Module):\n",
        "    def __init__(self):\n",
        "        super(ColorizationAutoencoder, self).__init__()\n",
        "\n",
        "        # Encoder\n",
        "        self.encoder = nn.Sequential(\n",
        "            nn.Conv2d(1, 64, kernel_size=3, stride=1, padding=1),\n",
        "            nn.ReLU(),\n",
        "            nn.MaxPool2d(2, 2),\n",
        "            nn.Conv2d(64, 128, kernel_size=3, stride=1, padding=1),\n",
        "            nn.ReLU(),\n",
        "            nn.MaxPool2d(2, 2),\n",
        "        )\n",
        "\n",
        "        # Decoder\n",
        "        self.decoder = nn.Sequential(\n",
        "            nn.Conv2d(128, 128, kernel_size=3, stride=1, padding=1),\n",
        "            nn.ReLU(),\n",
        "            nn.Upsample(scale_factor=2),\n",
        "            nn.Conv2d(128, 64, kernel_size=3, stride=1, padding=1),\n",
        "            nn.ReLU(),\n",
        "            nn.Upsample(scale_factor=2),\n",
        "            nn.Conv2d(64, 3, kernel_size=3, stride=1, padding=1),\n",
        "            nn.Tanh()  # Output in range [-1, 1]\n",
        "        )\n",
        "\n",
        "    def forward(self, x):\n",
        "        x = self.encoder(x)\n",
        "        x = self.decoder(x)\n",
        "        return x"
      ],
      "metadata": {
        "id": "u9l4f8QRnTtf"
      },
      "execution_count": 8,
      "outputs": []
    },
    {
      "cell_type": "code",
      "source": [
        "# Define Data Transformations\n",
        "transform = transforms.Compose([\n",
        "    transforms.Resize((256, 256)),\n",
        "    transforms.Grayscale(num_output_channels=1),\n",
        "    transforms.ToTensor()\n",
        "])\n",
        "\n",
        "# Load CIFAR-10 Dataset (Small Subset for Quick Training)\n",
        "trainset = torchvision.datasets.CIFAR10(root=\"./data\", train=True, download=True, transform=transform)\n",
        "subset_size = 5000\n",
        "train_subset = torch.utils.data.Subset(trainset, range(subset_size))\n",
        "trainloader = DataLoader(train_subset, batch_size=64, shuffle=True)\n",
        "\n"
      ],
      "metadata": {
        "colab": {
          "base_uri": "https://localhost:8080/"
        },
        "id": "puU_kdZqnkmC",
        "outputId": "736890bd-1df8-47e7-edb8-3ff9d0be3f3a"
      },
      "execution_count": 9,
      "outputs": [
        {
          "output_type": "stream",
          "name": "stdout",
          "text": [
            "Files already downloaded and verified\n"
          ]
        }
      ]
    },
    {
      "cell_type": "code",
      "source": [
        "import torch\n",
        "import torch.nn as nn\n",
        "import torch.optim as optim\n",
        "import torchvision\n",
        "from torch.utils.data import DataLoader\n",
        "\n",
        "device = torch.device(\"cuda\" if torch.cuda.is_available() else \"cpu\")\n",
        "\n",
        "# ✅ Define Model\n",
        "class ColorizationAutoencoder(nn.Module):\n",
        "    def __init__(self):\n",
        "        super(ColorizationAutoencoder, self).__init__()\n",
        "        self.encoder = nn.Sequential(\n",
        "            nn.Conv2d(1, 64, kernel_size=3, stride=1, padding=1),\n",
        "            nn.ReLU(),\n",
        "            nn.MaxPool2d(2, 2),\n",
        "            nn.Conv2d(64, 128, kernel_size=3, stride=1, padding=1),\n",
        "            nn.ReLU(),\n",
        "            nn.MaxPool2d(2, 2),\n",
        "        )\n",
        "        self.decoder = nn.Sequential(\n",
        "            nn.Conv2d(128, 128, kernel_size=3, stride=1, padding=1),\n",
        "            nn.ReLU(),\n",
        "            nn.Upsample(scale_factor=2),\n",
        "            nn.Conv2d(128, 64, kernel_size=3, stride=1, padding=1),\n",
        "            nn.ReLU(),\n",
        "            nn.Upsample(scale_factor=2),\n",
        "            nn.Conv2d(64, 3, kernel_size=3, stride=1, padding=1),\n",
        "            nn.Tanh()  # Output in range [-1, 1]\n",
        "        )\n",
        "\n",
        "    def forward(self, x):\n",
        "        x = self.encoder(x)\n",
        "        x = self.decoder(x)\n",
        "        return x\n",
        "\n",
        "# ✅ Initialize Model, Loss Function & Optimizer\n",
        "model = ColorizationAutoencoder().to(device)\n",
        "criterion = nn.MSELoss()\n",
        "optimizer = optim.Adam(model.parameters(), lr=0.0005)\n",
        "\n",
        "# ✅ Ensure num_epochs is defined\n",
        "num_epochs = 3\n",
        "\n",
        "# ✅ Fix Grayscale to RGB Conversion\n",
        "def convert_grayscale_to_rgb(grayscale_tensor):\n",
        "    \"\"\"Convert grayscale image (1 channel) to 3-channel grayscale image\"\"\"\n",
        "    return grayscale_tensor.repeat(1, 3, 1, 1)\n",
        "\n",
        "# ✅ Training Loop\n",
        "for epoch in range(num_epochs):\n",
        "    total_loss = 0.0\n",
        "    for gray_imgs, color_imgs in trainloader:\n",
        "        gray_imgs, color_imgs = gray_imgs.to(device), color_imgs.to(device)\n",
        "\n",
        "        # ✅ Convert grayscale to 3-channel grayscale\n",
        "        color_imgs = convert_grayscale_to_rgb(color_imgs)\n",
        "\n",
        "        optimizer.zero_grad()  # ✅ Now optimizer is defined\n",
        "        outputs = model(gray_imgs)\n",
        "        loss = criterion(outputs, color_imgs)\n",
        "\n",
        "        loss.backward()\n",
        "        optimizer.step()\n",
        "\n",
        "        total_loss += loss.item()\n",
        "\n",
        "    avg_loss = total_loss / len(trainloader)\n",
        "    print(f\"Epoch [{epoch+1}/{num_epochs}], Loss: {avg_loss:.4f}\")\n",
        "\n"
      ],
      "metadata": {
        "id": "MaqadCKAqu4A"
      },
      "execution_count": null,
      "outputs": []
    },
    {
      "cell_type": "code",
      "source": [
        "device = torch.device(\"cuda\" if torch.cuda.is_available() else \"cpu\")\n",
        "\n",
        "# ✅ Modify GradScaler (works for CPU & GPU)\n",
        "if device.type == \"cuda\":\n",
        "    scaler = torch.amp.GradScaler(\"cuda\")\n",
        "else:\n",
        "    scaler = None  # AMP not needed for CPU\n",
        "\n",
        "# ✅ Modify AMP usage in training loop\n",
        "for epoch in range(num_epochs):\n",
        "    total_loss = 0.0\n",
        "    for gray_imgs, color_imgs in trainloader:\n",
        "        gray_imgs, color_imgs = gray_imgs.to(device), color_imgs.to(device)\n",
        "\n",
        "        optimizer.zero_grad()\n",
        "\n",
        "        if scaler:  # ✅ Use AMP only if CUDA is available\n",
        "            with torch.amp.autocast(\"cuda\"):\n",
        "                outputs = model(gray_imgs)\n",
        "                loss = criterion(outputs, color_imgs)\n",
        "        else:\n",
        "            outputs = model(gray_imgs)\n",
        "            loss = criterion(outputs, color_imgs)\n",
        "\n",
        "        if scaler:\n",
        "            scaler.scale(loss).backward()\n",
        "            scaler.step(optimizer)\n",
        "            scaler.update()\n",
        "        else:\n",
        "            loss.backward()\n",
        "            optimizer.step()\n",
        "\n",
        "        total_loss += loss.item()\n",
        "\n"
      ],
      "metadata": {
        "id": "X5WzMxPnnueT"
      },
      "execution_count": null,
      "outputs": []
    },
    {
      "cell_type": "code",
      "source": [
        "torch.save(model.state_dict(), \"colorization_model.pth\")\n"
      ],
      "metadata": {
        "id": "Q2R8_a-Cn5im"
      },
      "execution_count": null,
      "outputs": []
    },
    {
      "cell_type": "code",
      "source": [
        "import cv2\n",
        "import torch\n",
        "import numpy as np\n",
        "from torchvision import transforms\n",
        "from PIL import Image\n",
        "\n",
        "# Load Trained Model\n",
        "device = torch.device(\"cuda\" if torch.cuda.is_available() else \"cpu\")\n",
        "model = ColorizationAutoencoder().to(device)\n",
        "model.load_state_dict(torch.load(\"colorization_model.pth\", map_location=device))\n",
        "model.eval()\n",
        "\n",
        "# Define Transformation\n",
        "transform = transforms.Compose([\n",
        "    transforms.Resize((256, 256)),\n",
        "    transforms.Grayscale(num_output_channels=1),\n",
        "    transforms.ToTensor()\n",
        "])\n",
        "\n",
        "def colorize_frame(frame):\n",
        "    gray = cv2.cvtColor(frame, cv2.COLOR_BGR2GRAY)\n",
        "    gray_3ch = cv2.cvtColor(gray, cv2.COLOR_GRAY2RGB)\n",
        "    img_tensor = transform(gray_3ch).unsqueeze(0).to(device)\n",
        "\n",
        "    with torch.no_grad():\n",
        "        colorized_tensor = model(img_tensor)\n",
        "\n",
        "    colorized_img = colorized_tensor.squeeze(0).cpu().numpy().transpose(1, 2, 0)\n",
        "    colorized_img = (colorized_img * 255).astype(np.uint8)\n",
        "\n",
        "    return colorized_img\n",
        "\n",
        "# Open Webcam\n",
        "cap = cv2.VideoCapture(0)\n",
        "while cap.isOpened():\n",
        "    ret, frame = cap.read()\n",
        "    if not ret:\n",
        "        break\n",
        "\n",
        "    colorized_frame = colorize_frame(frame)\n",
        "\n",
        "    cv2.imshow(\"Colorized Video\", colorized_frame)\n",
        "    if cv2.waitKey(1) & 0xFF == ord('q'):\n",
        "        break\n",
        "\n",
        "cap.release()\n",
        "cv2.destroyAllWindows()\n",
        "\n"
      ],
      "metadata": {
        "id": "zpgjXYOVoBZT"
      },
      "execution_count": null,
      "outputs": []
    },
    {
      "cell_type": "code",
      "source": [
        "import tkinter as tk\n",
        "from tkinter import filedialog\n",
        "import subprocess\n",
        "\n",
        "def start_webcam():\n",
        "    subprocess.run([\"python\", \"video_colorization.py\"])\n",
        "\n",
        "root = tk.Tk()\n",
        "root.title(\"Real-Time Video Colorization\")\n",
        "root.geometry(\"300x200\")\n",
        "\n",
        "btn_webcam = tk.Button(root, text=\"Start Webcam Colorization\", command=start_webcam)\n",
        "btn_webcam.pack(pady=20)\n",
        "\n",
        "root.mainloop()\n",
        "\n",
        "\n"
      ],
      "metadata": {
        "id": "3CWAJEuqoGef"
      },
      "execution_count": null,
      "outputs": []
    },
    {
      "cell_type": "code",
      "source": [
        "from sklearn.metrics import accuracy_score, precision_score, recall_score, confusion_matrix\n",
        "import numpy as np\n",
        "\n",
        "def evaluate_model():\n",
        "    all_preds = []\n",
        "    all_labels = []\n",
        "\n",
        "    for gray_imgs, color_imgs in trainloader:\n",
        "        gray_imgs, color_imgs = gray_imgs.to(device), color_imgs.to(device)\n",
        "\n",
        "        with torch.no_grad():\n",
        "            outputs = model(gray_imgs)\n",
        "\n",
        "        pred_classes = (outputs * 255).byte().cpu().numpy().flatten()\n",
        "        true_classes = (color_imgs * 255).byte().cpu().numpy().flatten()\n",
        "\n",
        "        all_preds.extend(pred_classes)\n",
        "        all_labels.extend(true_classes)\n",
        "\n",
        "    accuracy = accuracy_score(all_labels, all_preds)\n",
        "    print(f\"Accuracy: {accuracy * 100:.2f}%\")\n",
        "\n",
        "evaluate_model()\n",
        "\n"
      ],
      "metadata": {
        "id": "l13AaQmMoKzP"
      },
      "execution_count": null,
      "outputs": []
    }
  ]
}