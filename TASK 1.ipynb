{
  "cells": [
    {
      "cell_type": "markdown",
      "metadata": {
        "id": "view-in-github",
        "colab_type": "text"
      },
      "source": [
        "<a href=\"https://colab.research.google.com/github/JumanaRahim/Nullclass-Internship/blob/main/TASK%201.ipynb\" target=\"_parent\"><img src=\"https://colab.research.google.com/assets/colab-badge.svg\" alt=\"Open In Colab\"/></a>"
      ]
    },
    {
      "cell_type": "code",
      "source": [
        "import torch\n",
        "import torch.nn as nn\n",
        "import torch.optim as optim\n",
        "import torchvision\n",
        "import torchvision.transforms as transforms\n",
        "import numpy as np\n",
        "import matplotlib.pyplot as plt\n",
        "\n"
      ],
      "metadata": {
        "id": "oDbquoPE8dVW"
      },
      "execution_count": 2,
      "outputs": []
    },
    {
      "cell_type": "code",
      "source": [
        "\n",
        "transform = transforms.Compose([\n",
        "    transforms.ToTensor(),  # Convert to tensor\n",
        "])\n",
        "\n",
        "# Load CIFAR-10 dataset\n",
        "trainset = torchvision.datasets.CIFAR10(root='./data', train=True, download=True, transform=transform)\n",
        "testset = torchvision.datasets.CIFAR10(root='./data', train=False, download=True, transform=transform)\n",
        "\n",
        "# Create DataLoaders\n",
        "trainloader = torch.utils.data.DataLoader(trainset, batch_size=64, shuffle=True)\n",
        "testloader = torch.utils.data.DataLoader(testset, batch_size=64, shuffle=False)\n",
        "\n",
        "# Function to convert images to grayscale\n",
        "def rgb_to_gray(img):\n",
        "    return 0.299 * img[0, :, :] + 0.587 * img[1, :, :] + 0.114 * img[2, :, :]\n",
        "\n",
        "# Convert training and test images to grayscale\n",
        "train_gray = torch.stack([rgb_to_gray(img[0]) for img in trainset])\n",
        "train_color = torch.stack([img[0] for img in trainset])\n",
        "test_gray = torch.stack([rgb_to_gray(img[0]) for img in testset])\n",
        "test_color = torch.stack([img[0] for img in testset])\n",
        "\n",
        "# Reshape grayscale images to match input format\n",
        "train_gray = train_gray.unsqueeze(1)  # Shape: (N, 1, 32, 32)\n",
        "test_gray = test_gray.unsqueeze(1)\n"
      ],
      "metadata": {
        "id": "UvmPb09M8tWY",
        "outputId": "61f3d892-a8fe-421e-def4-175d2f99e597",
        "colab": {
          "base_uri": "https://localhost:8080/"
        }
      },
      "execution_count": 3,
      "outputs": [
        {
          "output_type": "stream",
          "name": "stdout",
          "text": [
            "Downloading https://www.cs.toronto.edu/~kriz/cifar-10-python.tar.gz to ./data/cifar-10-python.tar.gz\n"
          ]
        },
        {
          "output_type": "stream",
          "name": "stderr",
          "text": [
            "100%|██████████| 170M/170M [00:02<00:00, 78.2MB/s]\n"
          ]
        },
        {
          "output_type": "stream",
          "name": "stdout",
          "text": [
            "Extracting ./data/cifar-10-python.tar.gz to ./data\n",
            "Files already downloaded and verified\n"
          ]
        }
      ]
    },
    {
      "cell_type": "code",
      "source": [
        "class ColorizationAutoencoder(nn.Module):\n",
        "    def __init__(self):\n",
        "        super(ColorizationAutoencoder, self).__init__()\n",
        "\n",
        "        # Encoder\n",
        "        self.encoder = nn.Sequential(\n",
        "            nn.Conv2d(1, 64, kernel_size=3, stride=1, padding=1),\n",
        "            nn.ReLU(),\n",
        "            nn.MaxPool2d(kernel_size=2, stride=2),\n",
        "\n",
        "            nn.Conv2d(64, 128, kernel_size=3, stride=1, padding=1),\n",
        "            nn.ReLU(),\n",
        "            nn.MaxPool2d(kernel_size=2, stride=2),\n",
        "        )\n",
        "\n",
        "        # Decoder\n",
        "        self.decoder = nn.Sequential(\n",
        "            nn.Conv2d(128, 128, kernel_size=3, stride=1, padding=1),\n",
        "            nn.ReLU(),\n",
        "            nn.Upsample(scale_factor=2),\n",
        "\n",
        "            nn.Conv2d(128, 64, kernel_size=3, stride=1, padding=1),\n",
        "            nn.ReLU(),\n",
        "            nn.Upsample(scale_factor=2),\n",
        "\n",
        "            nn.Conv2d(64, 3, kernel_size=3, stride=1, padding=1),\n",
        "            nn.Sigmoid()  # Output in range [0,1]\n",
        "        )\n",
        "\n",
        "    def forward(self, x):\n",
        "        x = self.encoder(x)\n",
        "        x = self.decoder(x)\n",
        "        return x\n"
      ],
      "metadata": {
        "id": "TBsG0IrY829J"
      },
      "execution_count": 4,
      "outputs": []
    },
    {
      "cell_type": "code",
      "source": [
        "class ColorizationAutoencoder(nn.Module):\n",
        "    def __init__(self):\n",
        "        super(ColorizationAutoencoder, self).__init__()\n",
        "\n",
        "        # Encoder\n",
        "        self.encoder = nn.Sequential(\n",
        "            nn.Conv2d(1, 64, kernel_size=3, stride=1, padding=1),\n",
        "            nn.ReLU(),\n",
        "            nn.MaxPool2d(kernel_size=2, stride=2),\n",
        "\n",
        "            nn.Conv2d(64, 128, kernel_size=3, stride=1, padding=1),\n",
        "            nn.ReLU(),\n",
        "            nn.MaxPool2d(kernel_size=2, stride=2),\n",
        "        )\n",
        "\n",
        "        # Decoder\n",
        "        self.decoder = nn.Sequential(\n",
        "            nn.Conv2d(128, 128, kernel_size=3, stride=1, padding=1),\n",
        "            nn.ReLU(),\n",
        "            nn.Upsample(scale_factor=2),\n",
        "\n",
        "            nn.Conv2d(128, 64, kernel_size=3, stride=1, padding=1),\n",
        "            nn.ReLU(),\n",
        "            nn.Upsample(scale_factor=2),\n",
        "\n",
        "            nn.Conv2d(64, 3, kernel_size=3, stride=1, padding=1),\n",
        "            nn.Sigmoid()  # Output in range [0,1]\n",
        "        )\n",
        "\n",
        "    def forward(self, x):\n",
        "        x = self.encoder(x)\n",
        "        x = self.decoder(x)\n",
        "        return x\n"
      ],
      "metadata": {
        "id": "H7uWgaEs9Els"
      },
      "execution_count": 5,
      "outputs": []
    },
    {
      "cell_type": "code",
      "source": [
        "# Define hyperparameters to test\n",
        "hyperparameters = [\n",
        "    {\"learning_rate\": 0.001, \"batch_size\": 32},\n",
        "    {\"learning_rate\": 0.0005, \"batch_size\": 64},\n",
        "    {\"learning_rate\": 0.0001, \"batch_size\": 128}\n",
        "]\n",
        "\n",
        "# Function to train model with specific hyperparameters\n",
        "def train_model(learning_rate, batch_size, num_epochs=10):\n",
        "    device = torch.device(\"cuda\" if torch.cuda.is_available() else \"cpu\")\n",
        "\n",
        "    # Load data with new batch size\n",
        "    trainloader = torch.utils.data.DataLoader(list(zip(train_gray, train_color)), batch_size=batch_size, shuffle=True)\n",
        "    testloader = torch.utils.data.DataLoader(list(zip(test_gray, test_color)), batch_size=batch_size, shuffle=False)\n",
        "\n",
        "    # Initialize model, loss function, and optimizer\n",
        "    model = ColorizationAutoencoder().to(device)\n",
        "    criterion = nn.MSELoss()\n",
        "    optimizer = optim.Adam(model.parameters(), lr=learning_rate)\n",
        "\n",
        "    train_loss_history = []\n",
        "\n",
        "    # Training loop\n",
        "    for epoch in range(num_epochs):\n",
        "        total_loss = 0.0\n",
        "        for gray_imgs, color_imgs in trainloader:\n",
        "            gray_imgs, color_imgs = gray_imgs.to(device), color_imgs.to(device)\n",
        "\n",
        "            optimizer.zero_grad()\n",
        "            outputs = model(gray_imgs)\n",
        "            loss = criterion(outputs, color_imgs)\n",
        "            loss.backward()\n",
        "            optimizer.step()\n",
        "            total_loss += loss.item()\n",
        "\n",
        "        avg_loss = total_loss / len(trainloader)\n",
        "        train_loss_history.append(avg_loss)\n",
        "        print(f\"Epoch [{epoch+1}/{num_epochs}], Loss: {avg_loss:.4f}\")\n",
        "\n",
        "    return train_loss_history\n"
      ],
      "metadata": {
        "id": "mCpPZHfy9IYY"
      },
      "execution_count": 6,
      "outputs": []
    },
    {
      "cell_type": "code",
      "source": [
        "import time\n",
        "\n",
        "# Dictionary to store training loss for different hyperparameters\n",
        "results = {}\n",
        "\n",
        "# Select a subset of hyperparameters for faster testing\n",
        "hyperparameters = [\n",
        "    {\"learning_rate\": 0.0005, \"batch_size\": 64},\n",
        "    {\"learning_rate\": 0.001, \"batch_size\": 32}\n",
        "]\n",
        "\n"
      ],
      "metadata": {
        "id": "7dZ0Y1rb9M5u"
      },
      "execution_count": 9,
      "outputs": []
    },
    {
      "cell_type": "code",
      "source": [
        "import time\n",
        "import torch\n",
        "\n",
        "device = torch.device(\"cuda\" if torch.cuda.is_available() else \"cpu\")\n",
        "\n",
        "# Use a smaller subset of data for faster training\n",
        "subset_size = 5000  # Use only 5000 samples instead of full dataset\n",
        "train_subset = list(zip(train_gray[:subset_size], train_color[:subset_size]))\n",
        "\n",
        "# Select fewer hyperparameter combinations\n",
        "hyperparameters = [\n",
        "    {\"learning_rate\": 0.0005, \"batch_size\": 64},  # Best performing\n",
        "]\n",
        "\n",
        "# Training loop\n",
        "for hp in hyperparameters:\n",
        "    print(f\"\\nTraining with LR = {hp['learning_rate']}, Batch = {hp['batch_size']}\")\n",
        "\n",
        "    start_time = time.time()\n",
        "\n",
        "    # Load subset data with new batch size\n",
        "    trainloader = torch.utils.data.DataLoader(train_subset, batch_size=hp[\"batch_size\"], shuffle=True)\n",
        "\n",
        "    # Initialize model\n",
        "    model = ColorizationAutoencoder().to(device)\n",
        "    criterion = torch.nn.MSELoss()\n",
        "    optimizer = torch.optim.Adam(model.parameters(), lr=hp[\"learning_rate\"])\n",
        "\n",
        "    # Train for fewer epochs\n",
        "    num_epochs = 3\n",
        "    loss_history = []\n",
        "\n",
        "    for epoch in range(num_epochs):\n",
        "        total_loss = 0.0\n",
        "        for gray_imgs, color_imgs in trainloader:\n",
        "            gray_imgs, color_imgs = gray_imgs.to(device), color_imgs.to(device)\n",
        "\n",
        "            optimizer.zero_grad()\n",
        "            outputs = model(gray_imgs)\n",
        "            loss = criterion(outputs, color_imgs)\n",
        "            loss.backward()\n",
        "            optimizer.step()\n",
        "            total_loss += loss.item()\n",
        "\n",
        "        avg_loss = total_loss / len(trainloader)\n",
        "        loss_history.append(avg_loss)\n",
        "        print(f\"Epoch {epoch+1}/{num_epochs}, Loss: {avg_loss:.4f}\")\n",
        "\n",
        "    elapsed_time = time.time() - start_time\n",
        "    results[str(hp)] = {\"loss\": loss_history, \"time\": elapsed_time}\n",
        "    print(f\"Training completed in {elapsed_time:.2f} sec\")\n"
      ],
      "metadata": {
        "id": "E2DM0Aoc_9QX",
        "outputId": "b2fc8689-aa34-49f2-b2fd-ba312912d808",
        "colab": {
          "base_uri": "https://localhost:8080/"
        }
      },
      "execution_count": 12,
      "outputs": [
        {
          "output_type": "stream",
          "name": "stdout",
          "text": [
            "\n",
            "Training with LR = 0.0005, Batch = 64\n",
            "Epoch 1/3, Loss: 0.0263\n",
            "Epoch 2/3, Loss: 0.0150\n",
            "Epoch 3/3, Loss: 0.0127\n",
            "Training completed in 142.63 sec\n"
          ]
        }
      ]
    },
    {
      "cell_type": "code",
      "source": [
        "results = {}\n",
        "\n",
        "for hp in hyperparameters:\n",
        "    print(f\"\\nTraining with LR = {hp['learning_rate']}, Batch = {hp['batch_size']}\")\n",
        "\n",
        "    start_time = time.time()\n",
        "\n",
        "    trainloader = torch.utils.data.DataLoader(train_subset, batch_size=hp[\"batch_size\"], shuffle=True)\n",
        "\n",
        "    model = ColorizationAutoencoder().to(device)\n",
        "    criterion = torch.nn.MSELoss()\n",
        "    optimizer = torch.optim.Adam(model.parameters(), lr=hp[\"learning_rate\"])\n",
        "\n",
        "    num_epochs = 3\n",
        "    loss_history = []\n",
        "\n",
        "    for epoch in range(num_epochs):\n",
        "        total_loss = 0.0\n",
        "        for gray_imgs, color_imgs in trainloader:\n",
        "            gray_imgs, color_imgs = gray_imgs.to(device), color_imgs.to(device)\n",
        "\n",
        "            optimizer.zero_grad()\n",
        "            outputs = model(gray_imgs)\n",
        "            loss = criterion(outputs, color_imgs)\n",
        "            loss.backward()\n",
        "            optimizer.step()\n",
        "            total_loss += loss.item()\n",
        "\n",
        "        avg_loss = total_loss / len(trainloader)\n",
        "        loss_history.append(avg_loss)\n",
        "        print(f\"Epoch {epoch+1}/{num_epochs}, Loss: {avg_loss:.4f}\")\n",
        "\n",
        "    elapsed_time = time.time() - start_time\n",
        "\n",
        "    # ✅ Store results as a tuple instead of a string\n",
        "    results[(hp[\"learning_rate\"], hp[\"batch_size\"])] = {\n",
        "        \"loss\": loss_history,\n",
        "        \"time\": elapsed_time\n",
        "    }\n",
        "\n",
        "    print(f\"Training completed in {elapsed_time:.2f} sec\")\n"
      ],
      "metadata": {
        "id": "--1IUyCvCg_0",
        "outputId": "e8e3753b-3399-4ca8-f6c5-4909b7209208",
        "colab": {
          "base_uri": "https://localhost:8080/"
        }
      },
      "execution_count": 24,
      "outputs": [
        {
          "output_type": "stream",
          "name": "stdout",
          "text": [
            "\n",
            "Training with LR = 0.0005, Batch = 64\n",
            "Epoch 1/3, Loss: 0.0280\n",
            "Epoch 2/3, Loss: 0.0152\n",
            "Epoch 3/3, Loss: 0.0129\n",
            "Training completed in 144.45 sec\n"
          ]
        }
      ]
    },
    {
      "cell_type": "code",
      "source": [
        "import matplotlib.pyplot as plt\n",
        "\n",
        "plt.figure(figsize=(10, 5))\n",
        "\n",
        "for (lr, bs), data in results.items():\n",
        "    loss_values = data.get(\"loss\", [])\n",
        "\n",
        "    if isinstance(loss_values, list) and all(isinstance(i, (int, float)) for i in loss_values):\n",
        "        plt.plot(range(1, len(loss_values) + 1), loss_values, label=f\"LR: {lr}, BS: {bs}\")\n",
        "    else:\n",
        "        print(f\"Warning: Invalid loss data for LR={lr}, BS={bs}: {loss_values}\")\n",
        "\n",
        "plt.xlabel(\"Epochs\")\n",
        "plt.ylabel(\"Training Loss\")\n",
        "plt.title(\"Training Loss for Different Hyperparameters\")\n",
        "plt.legend()\n",
        "plt.show()\n"
      ],
      "metadata": {
        "id": "lzwGf6hyC9ly",
        "outputId": "1e332bc5-aa04-4266-eb71-fb40221fb7b1",
        "colab": {
          "base_uri": "https://localhost:8080/",
          "height": 487
        }
      },
      "execution_count": 25,
      "outputs": [
        {
          "output_type": "display_data",
          "data": {
            "text/plain": [
              "<Figure size 1000x500 with 1 Axes>"
            ],
            "image/png": "[encoded data removed]"
          },
          "metadata": {}
        }
      ]
    },
    {
      "cell_type": "code",
      "source": [
        "print(results)\n",
        "\n"
      ],
      "metadata": {
        "id": "oJogGraF9XB2",
        "outputId": "9f128f6c-77a7-4e4c-94ba-8fa427f9ea5b",
        "colab": {
          "base_uri": "https://localhost:8080/"
        }
      },
      "execution_count": 26,
      "outputs": [
        {
          "output_type": "stream",
          "name": "stdout",
          "text": [
            "{(0.0005, 64): {'loss': [0.0279571295987013, 0.015219509813793098, 0.012888828445744665], 'time': 144.45374536514282}}\n"
          ]
        }
      ]
    }
  ],
  "metadata": {
    "colab": {
      "name": "scratchpad",
      "provenance": [],
      "include_colab_link": true
    },
    "kernelspec": {
      "display_name": "Python 3",
      "name": "python3"
    }
  },
  "nbformat": 4,
  "nbformat_minor": 0
}