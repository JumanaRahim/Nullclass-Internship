{
  "cells": [
    {
      "cell_type": "markdown",
      "metadata": {
        "id": "view-in-github",
        "colab_type": "text"
      },
      "source": [
        "<a href=\"https://colab.research.google.com/github/JumanaRahim/Nullclass-Internship/blob/main/TASK%201.ipynb\" target=\"_parent\"><img src=\"https://colab.research.google.com/assets/colab-badge.svg\" alt=\"Open In Colab\"/></a>"
      ]
    },
    {
      "cell_type": "code",
      "source": [
        "import torch\n",
        "import torch.nn as nn\n",
        "import torch.optim as optim\n",
        "import torchvision\n",
        "import torchvision.transforms as transforms\n",
        "import numpy as np\n",
        "import matplotlib.pyplot as plt\n",
        "import time\n",
        "from torch.utils.data import DataLoader, Dataset\n",
        "\n"
      ],
      "metadata": {
        "id": "oDbquoPE8dVW"
      },
      "execution_count": 11,
      "outputs": []
    },
    {
      "cell_type": "code",
      "source": [
        "transform = transforms.Compose([\n",
        "    transforms.Grayscale(num_output_channels=1),\n",
        "    transforms.ToTensor()\n",
        "])"
      ],
      "metadata": {
        "id": "2mDp-Vurr5R8"
      },
      "execution_count": 12,
      "outputs": []
    },
    {
      "cell_type": "code",
      "source": [
        "trainset = torchvision.datasets.CIFAR10(root='./data', train=True, download=True, transform=transform)\n",
        "testset = torchvision.datasets.CIFAR10(root='./data', train=False, download=True, transform=transform)\n",
        "\n",
        "trainloader = DataLoader(trainset, batch_size=64, shuffle=True)\n",
        "testloader = DataLoader(testset, batch_size=64, shuffle=False)\n"
      ],
      "metadata": {
        "id": "UvmPb09M8tWY",
        "outputId": "367b9d62-d32d-4e94-ced7-acf620a072d5",
        "colab": {
          "base_uri": "https://localhost:8080/"
        }
      },
      "execution_count": 13,
      "outputs": [
        {
          "output_type": "stream",
          "name": "stdout",
          "text": [
            "Files already downloaded and verified\n",
            "Files already downloaded and verified\n"
          ]
        }
      ]
    },
    {
      "cell_type": "code",
      "source": [
        "class CIFAR10Colorization(Dataset):\n",
        "    def __init__(self, dataset):\n",
        "        self.dataset = dataset\n",
        "\n",
        "    def __len__(self):\n",
        "        return len(self.dataset)\n",
        "\n",
        "    def __getitem__(self, idx):\n",
        "        img, _ = self.dataset[idx]\n",
        "        gray = img\n",
        "        color = torchvision.transforms.ToTensor()(torchvision.transforms.ToPILImage()(img).convert(\"RGB\"))\n",
        "        return gray, color\n"
      ],
      "metadata": {
        "id": "H7uWgaEs9Els"
      },
      "execution_count": 14,
      "outputs": []
    },
    {
      "cell_type": "code",
      "source": [
        "trainset_gray_color = CIFAR10Colorization(trainset)\n",
        "testset_gray_color = CIFAR10Colorization(testset)\n",
        "\n",
        "trainloader = DataLoader(trainset_gray_color, batch_size=64, shuffle=True)\n",
        "testloader = DataLoader(testset_gray_color, batch_size=64, shuffle=False)\n",
        "\n"
      ],
      "metadata": {
        "id": "mCpPZHfy9IYY"
      },
      "execution_count": 15,
      "outputs": []
    },
    {
      "cell_type": "code",
      "source": [
        "class ColorizationAutoencoder(nn.Module):\n",
        "    def __init__(self):\n",
        "        super(ColorizationAutoencoder, self).__init__()\n",
        "\n",
        "        # Encoder\n",
        "        self.encoder = nn.Sequential(\n",
        "            nn.Conv2d(1, 64, kernel_size=3, stride=1, padding=1),\n",
        "            nn.ReLU(),\n",
        "            nn.MaxPool2d(kernel_size=2, stride=2),\n",
        "\n",
        "            nn.Conv2d(64, 128, kernel_size=3, stride=1, padding=1),\n",
        "            nn.ReLU(),\n",
        "            nn.MaxPool2d(kernel_size=2, stride=2),\n",
        "        )\n",
        "\n",
        "        # Decoder\n",
        "        self.decoder = nn.Sequential(\n",
        "            nn.Conv2d(128, 128, kernel_size=3, stride=1, padding=1),\n",
        "            nn.ReLU(),\n",
        "            nn.Upsample(scale_factor=2),\n",
        "\n",
        "            nn.Conv2d(128, 64, kernel_size=3, stride=1, padding=1),\n",
        "            nn.ReLU(),\n",
        "            nn.Upsample(scale_factor=2),\n",
        "\n",
        "            nn.Conv2d(64, 3, kernel_size=3, stride=1, padding=1),\n",
        "            nn.Sigmoid()\n",
        "\n",
        "    def forward(self, x):\n",
        "        x = self.encoder(x)\n",
        "        x = self.decoder(x)\n",
        "        return x\n"
      ],
      "metadata": {
        "id": "7dZ0Y1rb9M5u"
      },
      "execution_count": 16,
      "outputs": []
    },
    {
      "cell_type": "code",
      "source": [
        "device = torch.device(\"cuda\" if torch.cuda.is_available() else \"cpu\")\n",
        "hyperparameters = [\n",
        "    {\"learning_rate\": 0.001, \"batch_size\": 32},\n",
        "    {\"learning_rate\": 0.0005, \"batch_size\": 64},\n",
        "    {\"learning_rate\": 0.0001, \"batch_size\": 128}\n",
        "]"
      ],
      "metadata": {
        "id": "E2DM0Aoc_9QX"
      },
      "execution_count": 17,
      "outputs": []
    },
    {
      "cell_type": "code",
      "source": [
        "def train_model(learning_rate, batch_size, num_epochs=5):\n",
        "    trainloader = DataLoader(trainset_gray_color, batch_size=batch_size, shuffle=True)\n",
        "    model = ColorizationAutoencoder().to(device)\n",
        "    criterion = nn.MSELoss()\n",
        "    optimizer = optim.Adam(model.parameters(), lr=learning_rate)\n",
        "\n",
        "    train_loss_history = []\n",
        "\n",
        "    for epoch in range(num_epochs):\n",
        "        total_loss = 0.0\n",
        "        for gray_imgs, color_imgs in trainloader:\n",
        "            gray_imgs, color_imgs = gray_imgs.to(device), color_imgs.to(device)\n",
        "\n",
        "            optimizer.zero_grad()\n",
        "            outputs = model(gray_imgs)\n",
        "            loss = criterion(outputs, color_imgs)\n",
        "            loss.backward()\n",
        "            optimizer.step()\n",
        "            total_loss += loss.item()\n",
        "\n",
        "        avg_loss = total_loss / len(trainloader)\n",
        "        train_loss_history.append(avg_loss)\n",
        "        print(f\"Epoch [{epoch+1}/{num_epochs}], Loss: {avg_loss:.4f}\")\n",
        "\n",
        "    return train_loss_history\n"
      ],
      "metadata": {
        "id": "--1IUyCvCg_0"
      },
      "execution_count": 18,
      "outputs": []
    },
    {
      "cell_type": "code",
      "source": [
        "results = {}\n",
        "\n",
        "for hp in hyperparameters:\n",
        "    print(f\"\\nTraining with LR = {hp['learning_rate']}, Batch = {hp['batch_size']}\")\n",
        "\n",
        "    start_time = time.time()\n",
        "    loss_history = train_model(hp[\"learning_rate\"], hp[\"batch_size\"], num_epochs=3)\n",
        "    elapsed_time = time.time() - start_time\n",
        "\n",
        "    results[(hp[\"learning_rate\"], hp[\"batch_size\"])] = {\n",
        "        \"loss\": loss_history,\n",
        "        \"time\": elapsed_time\n",
        "    }\n",
        "\n",
        "    print(f\"Training completed in {elapsed_time:.2f} sec\")\n"
      ],
      "metadata": {
        "id": "lzwGf6hyC9ly",
        "outputId": "24c3d91c-5c01-4903-8624-7cfa7707bd95",
        "colab": {
          "base_uri": "https://localhost:8080/"
        }
      },
      "execution_count": 19,
      "outputs": [
        {
          "output_type": "stream",
          "name": "stdout",
          "text": [
            "\n",
            "Training with LR = 0.001, Batch = 32\n",
            "Epoch [1/3], Loss: 0.0043\n",
            "Epoch [2/3], Loss: 0.0019\n",
            "Epoch [3/3], Loss: 0.0014\n",
            "Training completed in 1226.55 sec\n",
            "\n",
            "Training with LR = 0.0005, Batch = 64\n",
            "Epoch [1/3], Loss: 0.0067\n",
            "Epoch [2/3], Loss: 0.0032\n",
            "Epoch [3/3], Loss: 0.0025\n",
            "Training completed in 1197.80 sec\n",
            "\n",
            "Training with LR = 0.0001, Batch = 128\n",
            "Epoch [1/3], Loss: 0.0141\n",
            "Epoch [2/3], Loss: 0.0063\n",
            "Epoch [3/3], Loss: 0.0052\n",
            "Training completed in 1185.42 sec\n"
          ]
        }
      ]
    },
    {
      "cell_type": "code",
      "source": [
        "plt.figure(figsize=(10, 5))\n",
        "\n",
        "for (lr, bs), data in results.items():\n",
        "    loss_values = data.get(\"loss\", [])"
      ],
      "metadata": {
        "colab": {
          "base_uri": "https://localhost:8080/",
          "height": 34
        },
        "id": "cepOizkbs2Rs",
        "outputId": "7b2bd2c1-e27a-476c-fc19-1e1d880d0e89"
      },
      "execution_count": 20,
      "outputs": [
        {
          "data": {
            "text/plain": [
              "<Figure size 1000x500 with 0 Axes>"
            ]
          },
          "metadata": {},
          "output_type": "display_data"
        }
      ]
    },
    {
      "cell_type": "code",
      "source": [
        "import matplotlib.pyplot as plt\n",
        "\n",
        "plt.figure(figsize=(10, 5))\n",
        "\n",
        "for (lr, bs), data in results.items():\n",
        "    loss_values = data.get(\"loss\", [])\n",
        "\n",
        "    if isinstance(loss_values, list) and all(isinstance(i, (int, float)) for i in loss_values):\n",
        "        plt.plot(range(1, len(loss_values) + 1), loss_values, label=f\"LR: {lr}, BS: {bs}\")\n",
        "    else:\n",
        "        print(f\"Warning: Invalid loss data for LR={lr}, BS={bs}: {loss_values}\")\n",
        "\n",
        "# Labels and title\n",
        "plt.xlabel(\"Epochs\")\n",
        "plt.ylabel(\"Training Loss\")\n",
        "plt.title(\"Training Loss for Different Hyperparameters\")\n",
        "plt.legend()\n",
        "plt.show()\n",
        "\n"
      ],
      "metadata": {
        "id": "oJogGraF9XB2",
        "outputId": "3e69bff5-fe31-4b35-f5a1-4c6d2e25c657",
        "colab": {
          "base_uri": "https://localhost:8080/",
          "height": 487
        }
      },
      "execution_count": 25,
      "outputs": [
        {
          "output_type": "display_data",
          "data": {
            "text/plain": [
              "<Figure size 1000x500 with 1 Axes>"
            ],
            "image/png": "[encoded data removed]"
          },
          "metadata": {}
        }
      ]
    },
    {
      "cell_type": "code",
      "source": [
        "import torch\n",
        "import torch.nn as nn\n",
        "import torch.optim as optim\n",
        "from sklearn.metrics import accuracy_score, precision_score, recall_score, confusion_matrix\n",
        "import numpy as np\n",
        "\n",
        "def train_model(learning_rate, batch_size, num_epochs=5):\n",
        "    device = torch.device(\"cuda\" if torch.cuda.is_available() else \"cpu\")\n",
        "    trainloader = DataLoader(trainset_gray_color, batch_size=batch_size, shuffle=True)\n",
        "\n",
        "    model = ColorizationAutoencoder().to(device)\n",
        "    criterion = nn.MSELoss()\n",
        "    optimizer = optim.Adam(model.parameters(), lr=learning_rate)\n",
        "\n",
        "    train_loss_history = []\n",
        "    all_preds = []\n",
        "    all_labels = []\n",
        "\n",
        "    for epoch in range(num_epochs):\n",
        "        total_loss = 0.0\n",
        "        for gray_imgs, color_imgs in trainloader:\n",
        "            gray_imgs, color_imgs = gray_imgs.to(device), color_imgs.to(device)\n",
        "\n",
        "            optimizer.zero_grad()\n",
        "            outputs = model(gray_imgs)\n",
        "            loss = criterion(outputs, color_imgs)\n",
        "            loss.backward()\n",
        "            optimizer.step()\n",
        "            total_loss += loss.item()\n",
        "\n",
        "            # Convert continuous pixel outputs to class labels (color categories)\n",
        "            pred_classes = (outputs * 255).byte().cpu().numpy().flatten()\n",
        "            true_classes = (color_imgs * 255).byte().cpu().numpy().flatten()\n",
        "\n",
        "            all_preds.extend(pred_classes)\n",
        "            all_labels.extend(true_classes)\n",
        "\n",
        "        avg_loss = total_loss / len(trainloader)\n",
        "        train_loss_history.append(avg_loss)\n",
        "        print(f\"Epoch [{epoch+1}/{num_epochs}], Loss: {avg_loss:.4f}\")\n",
        "\n",
        "    # Convert to NumPy arrays for metric calculations\n",
        "    all_preds = np.array(all_preds)\n",
        "    all_labels = np.array(all_labels)\n",
        "\n",
        "    # Compute Performance Metrics\n",
        "    accuracy = accuracy_score(all_labels, all_preds)\n",
        "    precision = precision_score(all_labels, all_preds, average=\"macro\", zero_division=1)\n",
        "    recall = recall_score(all_labels, all_preds, average=\"macro\", zero_division=1)\n",
        "    conf_matrix = confusion_matrix(all_labels, all_preds)\n",
        "\n",
        "    print(\"\\n📌 **Final Model Performance:**\")\n",
        "    print(f\"✅ Accuracy: {accuracy * 100:.2f}%\")\n",
        "    print(f\"✅ Precision: {precision:.4f}\")\n",
        "    print(f\"✅ Recall: {recall:.4f}\")\n",
        "    print(\"✅ Confusion Matrix:\\n\", conf_matrix)\n",
        "\n",
        "    return train_loss_history, accuracy\n"
      ],
      "metadata": {
        "id": "ex5k5cJb-GSn"
      },
      "execution_count": 29,
      "outputs": []
    },
    {
      "cell_type": "code",
      "source": [
        "import matplotlib.pyplot as plt\n",
        "\n",
        "def train_model(learning_rate, batch_size, num_epochs=5):\n",
        "    device = torch.device(\"cuda\" if torch.cuda.is_available() else \"cpu\")\n",
        "    trainloader = DataLoader(trainset_gray_color, batch_size=batch_size, shuffle=True)\n",
        "\n",
        "    model = ColorizationAutoencoder().to(device)\n",
        "    criterion = nn.MSELoss()\n",
        "    optimizer = optim.Adam(model.parameters(), lr=learning_rate)\n",
        "\n",
        "    train_loss_history = []\n",
        "    sample_gray = None\n",
        "    sample_colorized = None\n",
        "\n",
        "    for epoch in range(num_epochs):\n",
        "        total_loss = 0.0\n",
        "        for gray_imgs, color_imgs in trainloader:\n",
        "            gray_imgs, color_imgs = gray_imgs.to(device), color_imgs.to(device)\n",
        "\n",
        "            optimizer.zero_grad()\n",
        "            outputs = model(gray_imgs)\n",
        "            loss = criterion(outputs, color_imgs)\n",
        "            loss.backward()\n",
        "            optimizer.step()\n",
        "            total_loss += loss.item()\n",
        "\n",
        "            # ✅ Save first batch images for visualization\n",
        "            if sample_gray is None:\n",
        "                sample_gray = gray_imgs[0].cpu().detach()\n",
        "                sample_colorized = outputs[0].cpu().detach()\n",
        "\n",
        "        avg_loss = total_loss / len(trainloader)\n",
        "        train_loss_history.append(avg_loss)\n",
        "        print(f\"Epoch [{epoch+1}/{num_epochs}], Loss: {avg_loss:.4f}\")\n",
        "\n",
        "    # ✅ Display a sample colorized output\n",
        "    visualize_colorization(sample_gray, sample_colorized)\n",
        "\n",
        "    return train_loss_history\n"
      ],
      "metadata": {
        "id": "Kl9VerBw_2M_"
      },
      "execution_count": 33,
      "outputs": []
    },
    {
      "cell_type": "code",
      "source": [
        "def visualize_colorization(gray_img, colorized_img):\n",
        "    fig, axes = plt.subplots(1, 2, figsize=(8, 4))\n",
        "\n",
        "    # Convert grayscale tensor to image\n",
        "    gray_img = gray_img.squeeze(0).numpy()  # Remove channel dimension\n",
        "    axes[0].imshow(gray_img, cmap=\"gray\")\n",
        "    axes[0].set_title(\"Grayscale Input\")\n",
        "    axes[0].axis(\"off\")\n",
        "\n",
        "    # Convert colorized tensor to image\n",
        "    colorized_img = colorized_img.permute(1, 2, 0).numpy()\n",
        "    axes[1].imshow(colorized_img)\n",
        "    axes[1].set_title(\"Colorized Output\")\n",
        "    axes[1].axis(\"off\")\n",
        "\n",
        "    plt.show()\n"
      ],
      "metadata": {
        "id": "yEQrJqF9_4vx"
      },
      "execution_count": 34,
      "outputs": []
    },
    {
      "cell_type": "code",
      "source": [
        "loss_history = train_model(learning_rate=0.001, batch_size=32, num_epochs=3)\n"
      ],
      "metadata": {
        "colab": {
          "base_uri": "https://localhost:8080/",
          "height": 393
        },
        "id": "l_h4neae_9HB",
        "outputId": "b7b534ae-f63d-47f7-a60a-4867c522f1f5"
      },
      "execution_count": 35,
      "outputs": [
        {
          "metadata": {
            "tags": null
          },
          "name": "stdout",
          "output_type": "stream",
          "text": [
            "Epoch [1/3], Loss: 0.0051\n",
            "Epoch [2/3], Loss: 0.0022\n",
            "Epoch [3/3], Loss: 0.0016\n"
          ]
        },
        {
          "data": {
            "image/png": "[encoded data removed]",
            "text/plain": [
              "<Figure size 800x400 with 2 Axes>"
            ]
          },
          "metadata": {},
          "output_type": "display_data"
        }
      ]
    }
  ],
  "metadata": {
    "colab": {
      "name": "scratchpad",
      "provenance": [],
      "toc_visible": true,
      "include_colab_link": true
    },
    "kernelspec": {
      "display_name": "Python 3",
      "name": "python3"
    }
  },
  "nbformat": 4,
  "nbformat_minor": 0
}